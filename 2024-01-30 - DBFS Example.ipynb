{
 "cells": [
  {
   "cell_type": "markdown",
   "metadata": {
    "application/vnd.databricks.v1+cell": {
     "cellMetadata": {
      "byteLimit": 2048000,
      "rowLimit": 10000
     },
     "inputWidgets": {},
     "nuid": "96816ed7-b08a-4ca3-abb9-f99880c3535d",
     "showTitle": false,
     "title": ""
    }
   },
   "source": [
    "\n",
    "## Overview\n",
    "\n",
    "This notebook will show you how to create and query a table or DataFrame that you uploaded to DBFS. [DBFS](https://docs.databricks.com/user-guide/dbfs-databricks-file-system.html) is a Databricks File System that allows you to store data for querying inside of Databricks. This notebook assumes that you have a file already inside of DBFS that you would like to read from.\n",
    "\n",
    "This notebook is written in **Python** so the default cell type is Python. However, you can use different languages by using the `%LANGUAGE` syntax. Python, Scala, SQL, and R are all supported."
   ]
  },
  {
   "cell_type": "code",
   "execution_count": 0,
   "metadata": {
    "application/vnd.databricks.v1+cell": {
     "cellMetadata": {
      "byteLimit": 2048000,
      "rowLimit": 10000
     },
     "inputWidgets": {},
     "nuid": "6ef989be-c143-47c9-9245-f7ecb1c756cb",
     "showTitle": false,
     "title": ""
    }
   },
   "outputs": [
    {
     "output_type": "display_data",
     "data": {
      "text/html": [
       "<style scoped>\n",
       "  .table-result-container {\n",
       "    max-height: 300px;\n",
       "    overflow: auto;\n",
       "  }\n",
       "  table, th, td {\n",
       "    border: 1px solid black;\n",
       "    border-collapse: collapse;\n",
       "  }\n",
       "  th, td {\n",
       "    padding: 5px;\n",
       "  }\n",
       "  th {\n",
       "    text-align: left;\n",
       "  }\n",
       "</style><div class='table-result-container'><table class='table-result'><thead style='background-color: white'><tr><th>path</th><th>name</th><th>size</th><th>modificationTime</th></tr></thead><tbody><tr><td>dbfs:/FileStore/shared_uploads/hhgarret@go.olemiss.edu/train.csv</td><td>train.csv</td><td>61194</td><td>1706626485000</td></tr></tbody></table></div>"
      ]
     },
     "metadata": {
      "application/vnd.databricks.v1+output": {
       "addedWidgets": {},
       "aggData": [],
       "aggError": "",
       "aggOverflow": false,
       "aggSchema": [],
       "aggSeriesLimitReached": false,
       "aggType": "",
       "arguments": {},
       "columnCustomDisplayInfos": {},
       "data": [
        [
         "dbfs:/FileStore/shared_uploads/hhgarret@go.olemiss.edu/train.csv",
         "train.csv",
         61194,
         1706626485000
        ]
       ],
       "datasetInfos": [],
       "dbfsResultPath": null,
       "isJsonSchema": true,
       "metadata": {},
       "overflow": false,
       "plotOptions": {
        "customPlotOptions": {},
        "displayType": "table",
        "pivotAggregation": null,
        "pivotColumns": null,
        "xColumns": null,
        "yColumns": null
       },
       "removedWidgets": [],
       "schema": [
        {
         "metadata": "{}",
         "name": "path",
         "type": "\"string\""
        },
        {
         "metadata": "{}",
         "name": "name",
         "type": "\"string\""
        },
        {
         "metadata": "{}",
         "name": "size",
         "type": "\"long\""
        },
        {
         "metadata": "{}",
         "name": "modificationTime",
         "type": "\"long\""
        }
       ],
       "type": "table"
      }
     },
     "output_type": "display_data"
    },
    {
     "output_type": "display_data",
     "data": {
      "text/html": [
       "<style scoped>\n",
       "  .table-result-container {\n",
       "    max-height: 300px;\n",
       "    overflow: auto;\n",
       "  }\n",
       "  table, th, td {\n",
       "    border: 1px solid black;\n",
       "    border-collapse: collapse;\n",
       "  }\n",
       "  th, td {\n",
       "    padding: 5px;\n",
       "  }\n",
       "  th {\n",
       "    text-align: left;\n",
       "  }\n",
       "</style><div class='table-result-container'><table class='table-result'><thead style='background-color: white'><tr><th>path</th><th>name</th><th>size</th><th>modificationTime</th></tr></thead><tbody><tr><td>dbfs:/FileStore/tables/Hello_World_Notebook.dbc</td><td>Hello_World_Notebook.dbc</td><td>3524</td><td>1706626101000</td></tr></tbody></table></div>"
      ]
     },
     "metadata": {
      "application/vnd.databricks.v1+output": {
       "addedWidgets": {},
       "aggData": [],
       "aggError": "",
       "aggOverflow": false,
       "aggSchema": [],
       "aggSeriesLimitReached": false,
       "aggType": "",
       "arguments": {},
       "columnCustomDisplayInfos": {},
       "data": [
        [
         "dbfs:/FileStore/tables/Hello_World_Notebook.dbc",
         "Hello_World_Notebook.dbc",
         3524,
         1706626101000
        ]
       ],
       "datasetInfos": [],
       "dbfsResultPath": null,
       "isJsonSchema": true,
       "metadata": {},
       "overflow": false,
       "plotOptions": {
        "customPlotOptions": {},
        "displayType": "table",
        "pivotAggregation": null,
        "pivotColumns": null,
        "xColumns": null,
        "yColumns": null
       },
       "removedWidgets": [],
       "schema": [
        {
         "metadata": "{}",
         "name": "path",
         "type": "\"string\""
        },
        {
         "metadata": "{}",
         "name": "name",
         "type": "\"string\""
        },
        {
         "metadata": "{}",
         "name": "size",
         "type": "\"long\""
        },
        {
         "metadata": "{}",
         "name": "modificationTime",
         "type": "\"long\""
        }
       ],
       "type": "table"
      }
     },
     "output_type": "display_data"
    }
   ],
   "source": [
    "display(dbutils.fs.ls(\"/FileStore/shared_uploads/hhgarret@go.olemiss.edu/\"))\n",
    "display(dbutils.fs.ls(\"/FileStore/tables/\"))"
   ]
  },
  {
   "cell_type": "code",
   "execution_count": 0,
   "metadata": {
    "application/vnd.databricks.v1+cell": {
     "cellMetadata": {
      "byteLimit": 2048000,
      "rowLimit": 10000
     },
     "inputWidgets": {},
     "nuid": "6482be4c-f067-47c9-b0ac-35c938b94601",
     "showTitle": false,
     "title": ""
    }
   },
   "outputs": [
    {
     "output_type": "display_data",
     "data": {
      "text/html": [
       "<style scoped>\n",
       "  .table-result-container {\n",
       "    max-height: 300px;\n",
       "    overflow: auto;\n",
       "  }\n",
       "  table, th, td {\n",
       "    border: 1px solid black;\n",
       "    border-collapse: collapse;\n",
       "  }\n",
       "  th, td {\n",
       "    padding: 5px;\n",
       "  }\n",
       "  th {\n",
       "    text-align: left;\n",
       "  }\n",
       "</style><div class='table-result-container'><table class='table-result'><thead style='background-color: white'><tr><th>PassengerId</th><th>Survived</th><th>Pclass</th><th>Name</th><th>Sex</th><th>Age</th><th>SibSp</th><th>Parch</th><th>Ticket</th><th>Fare</th><th>Cabin</th><th>Embarked</th></tr></thead><tbody><tr><td>1</td><td>0</td><td>3</td><td>Braund, Mr. Owen Harris</td><td>male</td><td>22.0</td><td>1</td><td>0</td><td>A/5 21171</td><td>7.25</td><td>null</td><td>S</td></tr><tr><td>2</td><td>1</td><td>1</td><td>Cumings, Mrs. John Bradley (Florence Briggs Thayer)</td><td>female</td><td>38.0</td><td>1</td><td>0</td><td>PC 17599</td><td>71.2833</td><td>C85</td><td>C</td></tr><tr><td>3</td><td>1</td><td>3</td><td>Heikkinen, Miss. Laina</td><td>female</td><td>26.0</td><td>0</td><td>0</td><td>STON/O2. 3101282</td><td>7.925</td><td>null</td><td>S</td></tr><tr><td>4</td><td>1</td><td>1</td><td>Futrelle, Mrs. Jacques Heath (Lily May Peel)</td><td>female</td><td>35.0</td><td>1</td><td>0</td><td>113803</td><td>53.1</td><td>C123</td><td>S</td></tr><tr><td>5</td><td>0</td><td>3</td><td>Allen, Mr. William Henry</td><td>male</td><td>35.0</td><td>0</td><td>0</td><td>373450</td><td>8.05</td><td>null</td><td>S</td></tr><tr><td>6</td><td>0</td><td>3</td><td>Moran, Mr. James</td><td>male</td><td>null</td><td>0</td><td>0</td><td>330877</td><td>8.4583</td><td>null</td><td>Q</td></tr><tr><td>7</td><td>0</td><td>1</td><td>McCarthy, Mr. Timothy J</td><td>male</td><td>54.0</td><td>0</td><td>0</td><td>17463</td><td>51.8625</td><td>E46</td><td>S</td></tr><tr><td>8</td><td>0</td><td>3</td><td>Palsson, Master. Gosta Leonard</td><td>male</td><td>2.0</td><td>3</td><td>1</td><td>349909</td><td>21.075</td><td>null</td><td>S</td></tr><tr><td>9</td><td>1</td><td>3</td><td>Johnson, Mrs. Oscar W (Elisabeth Vilhelmina Berg)</td><td>female</td><td>27.0</td><td>0</td><td>2</td><td>347742</td><td>11.1333</td><td>null</td><td>S</td></tr><tr><td>10</td><td>1</td><td>2</td><td>Nasser, Mrs. Nicholas (Adele Achem)</td><td>female</td><td>14.0</td><td>1</td><td>0</td><td>237736</td><td>30.0708</td><td>null</td><td>C</td></tr></tbody></table></div>"
      ]
     },
     "metadata": {
      "application/vnd.databricks.v1+output": {
       "addedWidgets": {},
       "aggData": [],
       "aggError": "",
       "aggOverflow": false,
       "aggSchema": [],
       "aggSeriesLimitReached": false,
       "aggType": "",
       "arguments": {},
       "columnCustomDisplayInfos": {},
       "data": [
        [
         1,
         0,
         3,
         "Braund, Mr. Owen Harris",
         "male",
         22.0,
         1,
         0,
         "A/5 21171",
         7.25,
         null,
         "S"
        ],
        [
         2,
         1,
         1,
         "Cumings, Mrs. John Bradley (Florence Briggs Thayer)",
         "female",
         38.0,
         1,
         0,
         "PC 17599",
         71.2833,
         "C85",
         "C"
        ],
        [
         3,
         1,
         3,
         "Heikkinen, Miss. Laina",
         "female",
         26.0,
         0,
         0,
         "STON/O2. 3101282",
         7.925,
         null,
         "S"
        ],
        [
         4,
         1,
         1,
         "Futrelle, Mrs. Jacques Heath (Lily May Peel)",
         "female",
         35.0,
         1,
         0,
         "113803",
         53.1,
         "C123",
         "S"
        ],
        [
         5,
         0,
         3,
         "Allen, Mr. William Henry",
         "male",
         35.0,
         0,
         0,
         "373450",
         8.05,
         null,
         "S"
        ],
        [
         6,
         0,
         3,
         "Moran, Mr. James",
         "male",
         null,
         0,
         0,
         "330877",
         8.4583,
         null,
         "Q"
        ],
        [
         7,
         0,
         1,
         "McCarthy, Mr. Timothy J",
         "male",
         54.0,
         0,
         0,
         "17463",
         51.8625,
         "E46",
         "S"
        ],
        [
         8,
         0,
         3,
         "Palsson, Master. Gosta Leonard",
         "male",
         2.0,
         3,
         1,
         "349909",
         21.075,
         null,
         "S"
        ],
        [
         9,
         1,
         3,
         "Johnson, Mrs. Oscar W (Elisabeth Vilhelmina Berg)",
         "female",
         27.0,
         0,
         2,
         "347742",
         11.1333,
         null,
         "S"
        ],
        [
         10,
         1,
         2,
         "Nasser, Mrs. Nicholas (Adele Achem)",
         "female",
         14.0,
         1,
         0,
         "237736",
         30.0708,
         null,
         "C"
        ]
       ],
       "datasetInfos": [],
       "dbfsResultPath": null,
       "isJsonSchema": true,
       "metadata": {},
       "overflow": false,
       "plotOptions": {
        "customPlotOptions": {},
        "displayType": "table",
        "pivotAggregation": null,
        "pivotColumns": null,
        "xColumns": null,
        "yColumns": null
       },
       "removedWidgets": [],
       "schema": [
        {
         "metadata": "{}",
         "name": "PassengerId",
         "type": "\"long\""
        },
        {
         "metadata": "{}",
         "name": "Survived",
         "type": "\"long\""
        },
        {
         "metadata": "{}",
         "name": "Pclass",
         "type": "\"long\""
        },
        {
         "metadata": "{}",
         "name": "Name",
         "type": "\"string\""
        },
        {
         "metadata": "{}",
         "name": "Sex",
         "type": "\"string\""
        },
        {
         "metadata": "{}",
         "name": "Age",
         "type": "\"double\""
        },
        {
         "metadata": "{}",
         "name": "SibSp",
         "type": "\"long\""
        },
        {
         "metadata": "{}",
         "name": "Parch",
         "type": "\"long\""
        },
        {
         "metadata": "{}",
         "name": "Ticket",
         "type": "\"string\""
        },
        {
         "metadata": "{}",
         "name": "Fare",
         "type": "\"double\""
        },
        {
         "metadata": "{}",
         "name": "Cabin",
         "type": "\"string\""
        },
        {
         "metadata": "{}",
         "name": "Embarked",
         "type": "\"string\""
        }
       ],
       "type": "table"
      }
     },
     "output_type": "display_data"
    }
   ],
   "source": [
    "# File location and type\n",
    "file_location = \"/FileStore/shared_uploads/hhgarret@go.olemiss.edu/train.csv\"\n",
    "file_type = \"csv\"\n",
    "\n",
    "# CSV options\n",
    "infer_schema = \"true\"\n",
    "first_row_is_header = \"true\"\n",
    "delimiter = \",\"\n",
    "\n",
    "# The applied options are for CSV files. For other file types, these will be ignored.\n",
    "df = spark.read.format(file_type) \\\n",
    "  .option(\"inferSchema\", infer_schema) \\\n",
    "  .option(\"header\", first_row_is_header) \\\n",
    "  .option(\"sep\", delimiter) \\\n",
    "  .load(file_location)\n",
    "\n",
    "display(df.head(10))"
   ]
  },
  {
   "cell_type": "code",
   "execution_count": 0,
   "metadata": {
    "application/vnd.databricks.v1+cell": {
     "cellMetadata": {
      "byteLimit": 2048000,
      "rowLimit": 10000
     },
     "inputWidgets": {},
     "nuid": "bd82bb99-1479-4d5c-be10-8c36df0f1d44",
     "showTitle": false,
     "title": ""
    }
   },
   "outputs": [],
   "source": [
    "# Create a view or table\n",
    "\n",
    "temp_table_name = \"train_csv\"\n",
    "\n",
    "df.createOrReplaceTempView(temp_table_name)"
   ]
  },
  {
   "cell_type": "code",
   "execution_count": 0,
   "metadata": {
    "application/vnd.databricks.v1+cell": {
     "cellMetadata": {
      "byteLimit": 2048000,
      "rowLimit": 10000
     },
     "inputWidgets": {},
     "nuid": "3cb75bde-53db-4da8-9d81-e4b2efeb373a",
     "showTitle": false,
     "title": ""
    }
   },
   "outputs": [
    {
     "output_type": "stream",
     "name": "stdout",
     "output_type": "stream",
     "text": [
      "80.0\nOut[15]: <AxesSubplot:ylabel='Frequency'>"
     ]
    },
    {
     "output_type": "display_data",
     "data": {
      "image/png": "[encoded data removed]"
     },
     "metadata": {
      "application/vnd.databricks.v1+output": {
       "addedWidgets": {},
       "arguments": {},
       "data": "data:image/png;base64,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\n",
       "datasetInfos": [],
       "metadata": {},
       "removedWidgets": [],
       "type": "image"
      }
     },
     "output_type": "display_data"
    }
   ],
   "source": [
    "import matplotlib.pyplot as plt\n",
    "from pyspark.sql.functions import col, cast\n",
    "maxage = df.na.drop(subset='Age').agg({\"Age\":\"max\"}).collect()[0][0] #don't consider any row with na values in age column\n",
    "print(maxage)\n",
    "df.na.drop(subset='Age').select(\"Age\").toPandas().plot.hist(bins=(int(maxage/5))) #5 years per bin, so take maxage /5 , I.E., 80/5 = 16"
   ]
  },
  {
   "cell_type": "code",
   "execution_count": 0,
   "metadata": {
    "application/vnd.databricks.v1+cell": {
     "cellMetadata": {
      "byteLimit": 2048000,
      "rowLimit": 10000
     },
     "inputWidgets": {},
     "nuid": "f7781cc1-1438-40c0-bea4-52fe0da083e8",
     "showTitle": false,
     "title": ""
    }
   },
   "outputs": [],
   "source": []
  }
 ],
 "metadata": {
  "application/vnd.databricks.v1+notebook": {
   "dashboards": [],
   "language": "python",
   "notebookMetadata": {
    "mostRecentlyExecutedCommandWithImplicitDF": {
     "commandId": 551231935103250,
     "dataframes": [
      "_sqldf"
     ]
    },
    "pythonIndentUnit": 4
   },
   "notebookName": "2024-01-30 - DBFS Example",
   "widgets": {}
  }
 },
 "nbformat": 4,
 "nbformat_minor": 0
}
